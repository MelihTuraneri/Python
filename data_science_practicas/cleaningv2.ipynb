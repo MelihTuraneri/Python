{
 "cells": [
  {
   "cell_type": "code",
   "execution_count": 2,
   "id": "ed6a89d3-bd45-45a6-861e-6934b3bb7bc2",
   "metadata": {},
   "outputs": [],
   "source": [
    "import pandas as pd \n",
    "import numpy as np\n",
    "import seaborn as sns\n",
    "import matplotlib.pyplot as plt"
   ]
  },
  {
   "cell_type": "markdown",
   "id": "4eb9ab8e-11da-4e7a-b352-bbf154c23672",
   "metadata": {},
   "source": [
    "### **Markets Dataset**"
   ]
  },
  {
   "cell_type": "code",
   "execution_count": 2,
   "id": "5b9f3e9f-0ad6-4709-a6bf-855839b33fb3",
   "metadata": {},
   "outputs": [
    {
     "data": {
      "text/html": [
       "<div>\n",
       "<style scoped>\n",
       "    .dataframe tbody tr th:only-of-type {\n",
       "        vertical-align: middle;\n",
       "    }\n",
       "\n",
       "    .dataframe tbody tr th {\n",
       "        vertical-align: top;\n",
       "    }\n",
       "\n",
       "    .dataframe thead th {\n",
       "        text-align: right;\n",
       "    }\n",
       "</style>\n",
       "<table border=\"1\" class=\"dataframe\">\n",
       "  <thead>\n",
       "    <tr style=\"text-align: right;\">\n",
       "      <th></th>\n",
       "      <th>markets_code</th>\n",
       "      <th>markets_name</th>\n",
       "      <th>zone</th>\n",
       "    </tr>\n",
       "  </thead>\n",
       "  <tbody>\n",
       "    <tr>\n",
       "      <th>12</th>\n",
       "      <td>Mark013</td>\n",
       "      <td>Bhopal</td>\n",
       "      <td>Central</td>\n",
       "    </tr>\n",
       "    <tr>\n",
       "      <th>13</th>\n",
       "      <td>Mark014</td>\n",
       "      <td>Hyderabad</td>\n",
       "      <td>South</td>\n",
       "    </tr>\n",
       "    <tr>\n",
       "      <th>14</th>\n",
       "      <td>Mark015</td>\n",
       "      <td>Bhubaneshwar</td>\n",
       "      <td>South</td>\n",
       "    </tr>\n",
       "    <tr>\n",
       "      <th>15</th>\n",
       "      <td>Mark097</td>\n",
       "      <td>New York</td>\n",
       "      <td>NaN</td>\n",
       "    </tr>\n",
       "    <tr>\n",
       "      <th>16</th>\n",
       "      <td>Mark999</td>\n",
       "      <td>Paris</td>\n",
       "      <td>NaN</td>\n",
       "    </tr>\n",
       "  </tbody>\n",
       "</table>\n",
       "</div>"
      ],
      "text/plain": [
       "   markets_code  markets_name     zone\n",
       "12      Mark013        Bhopal  Central\n",
       "13      Mark014     Hyderabad    South\n",
       "14      Mark015  Bhubaneshwar    South\n",
       "15      Mark097      New York      NaN\n",
       "16      Mark999         Paris      NaN"
      ]
     },
     "execution_count": 2,
     "metadata": {},
     "output_type": "execute_result"
    }
   ],
   "source": [
    "df_markets = pd.read_csv(\"sales_markets.csv\")\n",
    "df_markets.tail()"
   ]
  },
  {
   "cell_type": "code",
   "execution_count": 3,
   "id": "29fd5605-590d-4805-98a2-722219546702",
   "metadata": {},
   "outputs": [
    {
     "data": {
      "text/plain": [
       "(17, 3)"
      ]
     },
     "execution_count": 3,
     "metadata": {},
     "output_type": "execute_result"
    }
   ],
   "source": [
    "df_markets.shape"
   ]
  },
  {
   "cell_type": "markdown",
   "id": "7e4001de-f7ac-4df6-8cc1-7b80a7f09631",
   "metadata": {},
   "source": [
    "#### **If data is null in zone column droping that row completly**"
   ]
  },
  {
   "cell_type": "code",
   "execution_count": 4,
   "id": "f8881c26-f05a-420d-8323-217011d43a80",
   "metadata": {},
   "outputs": [],
   "source": [
    "df_markets.dropna(subset=[\"zone\"], axis = 0, inplace=True)"
   ]
  },
  {
   "cell_type": "code",
   "execution_count": 5,
   "id": "dfc0d327-21dd-482a-aba9-c82677ffba8d",
   "metadata": {},
   "outputs": [
    {
     "data": {
      "text/html": [
       "<div>\n",
       "<style scoped>\n",
       "    .dataframe tbody tr th:only-of-type {\n",
       "        vertical-align: middle;\n",
       "    }\n",
       "\n",
       "    .dataframe tbody tr th {\n",
       "        vertical-align: top;\n",
       "    }\n",
       "\n",
       "    .dataframe thead th {\n",
       "        text-align: right;\n",
       "    }\n",
       "</style>\n",
       "<table border=\"1\" class=\"dataframe\">\n",
       "  <thead>\n",
       "    <tr style=\"text-align: right;\">\n",
       "      <th></th>\n",
       "      <th>markets_code</th>\n",
       "      <th>markets_name</th>\n",
       "      <th>zone</th>\n",
       "    </tr>\n",
       "  </thead>\n",
       "  <tbody>\n",
       "    <tr>\n",
       "      <th>10</th>\n",
       "      <td>Mark011</td>\n",
       "      <td>Nagpur</td>\n",
       "      <td>Central</td>\n",
       "    </tr>\n",
       "    <tr>\n",
       "      <th>11</th>\n",
       "      <td>Mark012</td>\n",
       "      <td>Surat</td>\n",
       "      <td>North</td>\n",
       "    </tr>\n",
       "    <tr>\n",
       "      <th>12</th>\n",
       "      <td>Mark013</td>\n",
       "      <td>Bhopal</td>\n",
       "      <td>Central</td>\n",
       "    </tr>\n",
       "    <tr>\n",
       "      <th>13</th>\n",
       "      <td>Mark014</td>\n",
       "      <td>Hyderabad</td>\n",
       "      <td>South</td>\n",
       "    </tr>\n",
       "    <tr>\n",
       "      <th>14</th>\n",
       "      <td>Mark015</td>\n",
       "      <td>Bhubaneshwar</td>\n",
       "      <td>South</td>\n",
       "    </tr>\n",
       "  </tbody>\n",
       "</table>\n",
       "</div>"
      ],
      "text/plain": [
       "   markets_code  markets_name     zone\n",
       "10      Mark011        Nagpur  Central\n",
       "11      Mark012         Surat    North\n",
       "12      Mark013        Bhopal  Central\n",
       "13      Mark014     Hyderabad    South\n",
       "14      Mark015  Bhubaneshwar    South"
      ]
     },
     "execution_count": 5,
     "metadata": {},
     "output_type": "execute_result"
    }
   ],
   "source": [
    "df_markets.tail()"
   ]
  },
  {
   "cell_type": "markdown",
   "id": "34009867-f4c5-4b55-8dad-bf5332b99adb",
   "metadata": {},
   "source": [
    "### **Transactions Dataset**"
   ]
  },
  {
   "cell_type": "code",
   "execution_count": 6,
   "id": "386fa785-9841-4611-8dd0-4a67774b9a17",
   "metadata": {},
   "outputs": [
    {
     "data": {
      "text/html": [
       "<div>\n",
       "<style scoped>\n",
       "    .dataframe tbody tr th:only-of-type {\n",
       "        vertical-align: middle;\n",
       "    }\n",
       "\n",
       "    .dataframe tbody tr th {\n",
       "        vertical-align: top;\n",
       "    }\n",
       "\n",
       "    .dataframe thead th {\n",
       "        text-align: right;\n",
       "    }\n",
       "</style>\n",
       "<table border=\"1\" class=\"dataframe\">\n",
       "  <thead>\n",
       "    <tr style=\"text-align: right;\">\n",
       "      <th></th>\n",
       "      <th>product_code</th>\n",
       "      <th>customer_code</th>\n",
       "      <th>market_code</th>\n",
       "      <th>order_date</th>\n",
       "      <th>sales_qty</th>\n",
       "      <th>sales_amount</th>\n",
       "      <th>currency</th>\n",
       "    </tr>\n",
       "  </thead>\n",
       "  <tbody>\n",
       "    <tr>\n",
       "      <th>0</th>\n",
       "      <td>Prod001</td>\n",
       "      <td>Cus001</td>\n",
       "      <td>Mark001</td>\n",
       "      <td>2017-10-10</td>\n",
       "      <td>100</td>\n",
       "      <td>41241.0</td>\n",
       "      <td>INR</td>\n",
       "    </tr>\n",
       "    <tr>\n",
       "      <th>1</th>\n",
       "      <td>Prod001</td>\n",
       "      <td>Cus002</td>\n",
       "      <td>Mark002</td>\n",
       "      <td>2018-05-08</td>\n",
       "      <td>3</td>\n",
       "      <td>-1.0</td>\n",
       "      <td>INR</td>\n",
       "    </tr>\n",
       "    <tr>\n",
       "      <th>2</th>\n",
       "      <td>Prod002</td>\n",
       "      <td>Cus003</td>\n",
       "      <td>Mark003</td>\n",
       "      <td>2018-04-06</td>\n",
       "      <td>1</td>\n",
       "      <td>875.0</td>\n",
       "      <td>INR</td>\n",
       "    </tr>\n",
       "    <tr>\n",
       "      <th>3</th>\n",
       "      <td>Prod002</td>\n",
       "      <td>Cus003</td>\n",
       "      <td>Mark003</td>\n",
       "      <td>2018-04-11</td>\n",
       "      <td>1</td>\n",
       "      <td>583.0</td>\n",
       "      <td>INR</td>\n",
       "    </tr>\n",
       "    <tr>\n",
       "      <th>4</th>\n",
       "      <td>Prod002</td>\n",
       "      <td>Cus004</td>\n",
       "      <td>Mark003</td>\n",
       "      <td>2018-06-18</td>\n",
       "      <td>6</td>\n",
       "      <td>7176.0</td>\n",
       "      <td>INR</td>\n",
       "    </tr>\n",
       "  </tbody>\n",
       "</table>\n",
       "</div>"
      ],
      "text/plain": [
       "  product_code customer_code market_code  order_date  sales_qty  sales_amount  \\\n",
       "0      Prod001        Cus001     Mark001  2017-10-10        100       41241.0   \n",
       "1      Prod001        Cus002     Mark002  2018-05-08          3          -1.0   \n",
       "2      Prod002        Cus003     Mark003  2018-04-06          1         875.0   \n",
       "3      Prod002        Cus003     Mark003  2018-04-11          1         583.0   \n",
       "4      Prod002        Cus004     Mark003  2018-06-18          6        7176.0   \n",
       "\n",
       "  currency  \n",
       "0      INR  \n",
       "1      INR  \n",
       "2      INR  \n",
       "3      INR  \n",
       "4      INR  "
      ]
     },
     "execution_count": 6,
     "metadata": {},
     "output_type": "execute_result"
    }
   ],
   "source": [
    "df_transactions = pd.read_csv(\"sales_transactions.csv\")\n",
    "df_transactions.head()"
   ]
  },
  {
   "cell_type": "markdown",
   "id": "88f47a18-049a-4a0b-9bac-5321eb28d2bf",
   "metadata": {},
   "source": [
    "#### **Drop rows where sales_amount is -1 or 0**"
   ]
  },
  {
   "cell_type": "code",
   "execution_count": 7,
   "id": "d76bdeac-6b4d-494b-9e7a-7ee2ae1de175",
   "metadata": {},
   "outputs": [
    {
     "name": "stdout",
     "output_type": "stream",
     "text": [
      "Before tansformation;\n",
      "\n",
      "Count of -1 datas in sales_amount column : 2\n",
      "Count of 0 datas in sales_amount column : 1609\n",
      "\n",
      "After tansformation;\n",
      "\n",
      "Count of -1 datas in sales_amount column : 0\n",
      "Count of 0 datas in sales_amount column : 0\n"
     ]
    }
   ],
   "source": [
    "print(\"Before tansformation;\\n\")\n",
    "print(\"Count of -1 datas in sales_amount column : {}\".format(len(df_transactions[df_transactions[\"sales_amount\"] == -1])))\n",
    "print(\"Count of 0 datas in sales_amount column : {}\".format(len(df_transactions[df_transactions[\"sales_amount\"] == 0])))\n",
    "\n",
    "df_transactions.drop(df_transactions[df_transactions[\"sales_amount\"] == -1].index, inplace=True)\n",
    "df_transactions.drop(df_transactions[df_transactions[\"sales_amount\"] == 0].index, inplace=True)\n",
    "print(\"\\nAfter tansformation;\\n\")\n",
    "\n",
    "print(\"Count of -1 datas in sales_amount column : {}\".format(len(df_transactions[df_transactions[\"sales_amount\"] == -1])))\n",
    "print(\"Count of 0 datas in sales_amount column : {}\".format(len(df_transactions[df_transactions[\"sales_amount\"] == 0])))\n"
   ]
  },
  {
   "cell_type": "code",
   "execution_count": 8,
   "id": "2d893f5b-017f-4b89-8eb7-479591ab3c7a",
   "metadata": {},
   "outputs": [
    {
     "data": {
      "text/html": [
       "<div>\n",
       "<style scoped>\n",
       "    .dataframe tbody tr th:only-of-type {\n",
       "        vertical-align: middle;\n",
       "    }\n",
       "\n",
       "    .dataframe tbody tr th {\n",
       "        vertical-align: top;\n",
       "    }\n",
       "\n",
       "    .dataframe thead th {\n",
       "        text-align: right;\n",
       "    }\n",
       "</style>\n",
       "<table border=\"1\" class=\"dataframe\">\n",
       "  <thead>\n",
       "    <tr style=\"text-align: right;\">\n",
       "      <th></th>\n",
       "      <th>product_code</th>\n",
       "      <th>customer_code</th>\n",
       "      <th>market_code</th>\n",
       "      <th>order_date</th>\n",
       "      <th>sales_qty</th>\n",
       "      <th>sales_amount</th>\n",
       "      <th>currency</th>\n",
       "    </tr>\n",
       "  </thead>\n",
       "  <tbody>\n",
       "    <tr>\n",
       "      <th>0</th>\n",
       "      <td>Prod001</td>\n",
       "      <td>Cus001</td>\n",
       "      <td>Mark001</td>\n",
       "      <td>2017-10-10</td>\n",
       "      <td>100</td>\n",
       "      <td>41241.0</td>\n",
       "      <td>INR</td>\n",
       "    </tr>\n",
       "    <tr>\n",
       "      <th>2</th>\n",
       "      <td>Prod002</td>\n",
       "      <td>Cus003</td>\n",
       "      <td>Mark003</td>\n",
       "      <td>2018-04-06</td>\n",
       "      <td>1</td>\n",
       "      <td>875.0</td>\n",
       "      <td>INR</td>\n",
       "    </tr>\n",
       "    <tr>\n",
       "      <th>3</th>\n",
       "      <td>Prod002</td>\n",
       "      <td>Cus003</td>\n",
       "      <td>Mark003</td>\n",
       "      <td>2018-04-11</td>\n",
       "      <td>1</td>\n",
       "      <td>583.0</td>\n",
       "      <td>INR</td>\n",
       "    </tr>\n",
       "    <tr>\n",
       "      <th>4</th>\n",
       "      <td>Prod002</td>\n",
       "      <td>Cus004</td>\n",
       "      <td>Mark003</td>\n",
       "      <td>2018-06-18</td>\n",
       "      <td>6</td>\n",
       "      <td>7176.0</td>\n",
       "      <td>INR</td>\n",
       "    </tr>\n",
       "    <tr>\n",
       "      <th>5</th>\n",
       "      <td>Prod003</td>\n",
       "      <td>Cus005</td>\n",
       "      <td>Mark004</td>\n",
       "      <td>2017-11-20</td>\n",
       "      <td>59</td>\n",
       "      <td>500.0</td>\n",
       "      <td>USD</td>\n",
       "    </tr>\n",
       "  </tbody>\n",
       "</table>\n",
       "</div>"
      ],
      "text/plain": [
       "  product_code customer_code market_code  order_date  sales_qty  sales_amount  \\\n",
       "0      Prod001        Cus001     Mark001  2017-10-10        100       41241.0   \n",
       "2      Prod002        Cus003     Mark003  2018-04-06          1         875.0   \n",
       "3      Prod002        Cus003     Mark003  2018-04-11          1         583.0   \n",
       "4      Prod002        Cus004     Mark003  2018-06-18          6        7176.0   \n",
       "5      Prod003        Cus005     Mark004  2017-11-20         59         500.0   \n",
       "\n",
       "  currency  \n",
       "0      INR  \n",
       "2      INR  \n",
       "3      INR  \n",
       "4      INR  \n",
       "5      USD  "
      ]
     },
     "execution_count": 8,
     "metadata": {},
     "output_type": "execute_result"
    }
   ],
   "source": [
    "df_transactions.head()"
   ]
  },
  {
   "cell_type": "markdown",
   "id": "a00c308b-8954-487e-9d6f-5b14f570fd8c",
   "metadata": {},
   "source": [
    "#### **Drop rows where currency is USD or INR because those datas are replicated. And rename USD\\r and INR\\r with just USD and INR**"
   ]
  },
  {
   "cell_type": "code",
   "execution_count": 9,
   "id": "90df1533-73d6-4920-9059-5a4bb18ba268",
   "metadata": {},
   "outputs": [
    {
     "name": "stdout",
     "output_type": "stream",
     "text": [
      "Before tansformation:\n"
     ]
    },
    {
     "data": {
      "text/plain": [
       "INR\\r    148393\n",
       "INR         275\n",
       "USD           2\n",
       "USD\\r         2\n",
       "Name: currency, dtype: int64"
      ]
     },
     "execution_count": 9,
     "metadata": {},
     "output_type": "execute_result"
    }
   ],
   "source": [
    "print(\"Before tansformation:\")\n",
    "df_transactions[\"currency\"].value_counts()"
   ]
  },
  {
   "cell_type": "code",
   "execution_count": 10,
   "id": "eab416c1-4078-4fcd-b01e-4b9fa902195d",
   "metadata": {},
   "outputs": [
    {
     "name": "stdout",
     "output_type": "stream",
     "text": [
      "After tansformation:\n"
     ]
    },
    {
     "data": {
      "text/plain": [
       "INR    148393\n",
       "USD         2\n",
       "Name: currency, dtype: int64"
      ]
     },
     "execution_count": 10,
     "metadata": {},
     "output_type": "execute_result"
    }
   ],
   "source": [
    "df_transactions.drop(df_transactions[df_transactions[\"currency\"] == \"INR\"].index, inplace=True)\n",
    "df_transactions.drop(df_transactions[df_transactions[\"currency\"] == \"USD\"].index, inplace=True)\n",
    "df_transactions.reset_index(drop=True,inplace=True)\n",
    "df_transactions[\"currency\"] = df_transactions[\"currency\"].apply(lambda x: \"USD\" if x == \"USD\\r\" else \"INR\")\n",
    "\n",
    "print(\"After tansformation:\")\n",
    "df_transactions[\"currency\"].value_counts()"
   ]
  },
  {
   "cell_type": "markdown",
   "id": "f94fcb72-3f8e-40bb-ae71-21befcf99176",
   "metadata": {},
   "source": [
    "#### **And also apply rates as given on sales_amount where currency is USD\\r**"
   ]
  },
  {
   "cell_type": "code",
   "execution_count": 11,
   "id": "050f127d-bc87-4d05-be2f-3400e9e74361",
   "metadata": {},
   "outputs": [
    {
     "data": {
      "text/html": [
       "<div>\n",
       "<style scoped>\n",
       "    .dataframe tbody tr th:only-of-type {\n",
       "        vertical-align: middle;\n",
       "    }\n",
       "\n",
       "    .dataframe tbody tr th {\n",
       "        vertical-align: top;\n",
       "    }\n",
       "\n",
       "    .dataframe thead th {\n",
       "        text-align: right;\n",
       "    }\n",
       "</style>\n",
       "<table border=\"1\" class=\"dataframe\">\n",
       "  <thead>\n",
       "    <tr style=\"text-align: right;\">\n",
       "      <th></th>\n",
       "      <th>Year</th>\n",
       "      <th>USD/INR</th>\n",
       "    </tr>\n",
       "  </thead>\n",
       "  <tbody>\n",
       "    <tr>\n",
       "      <th>0</th>\n",
       "      <td>2017</td>\n",
       "      <td>65.0966</td>\n",
       "    </tr>\n",
       "    <tr>\n",
       "      <th>1</th>\n",
       "      <td>2018</td>\n",
       "      <td>68.4113</td>\n",
       "    </tr>\n",
       "    <tr>\n",
       "      <th>2</th>\n",
       "      <td>2019</td>\n",
       "      <td>70.4059</td>\n",
       "    </tr>\n",
       "    <tr>\n",
       "      <th>3</th>\n",
       "      <td>2020</td>\n",
       "      <td>74.1322</td>\n",
       "    </tr>\n",
       "  </tbody>\n",
       "</table>\n",
       "</div>"
      ],
      "text/plain": [
       "   Year  USD/INR\n",
       "0  2017  65.0966\n",
       "1  2018  68.4113\n",
       "2  2019  70.4059\n",
       "3  2020  74.1322"
      ]
     },
     "execution_count": 11,
     "metadata": {},
     "output_type": "execute_result"
    }
   ],
   "source": [
    "df_dict = {\"Year\" : [2017,2018,2019,2020],\n",
    "           \"USD/INR\" : [65.0966,68.4113,70.4059,74.1322]}\n",
    "df = pd.DataFrame(data = df_dict)\n",
    "df.head()"
   ]
  },
  {
   "cell_type": "code",
   "execution_count": 12,
   "id": "3f39b48f-b798-4a9b-a213-29e7445ebda2",
   "metadata": {},
   "outputs": [],
   "source": [
    "df_transactions[\"sales_amount\"] = df_transactions.apply(lambda x: x[\"sales_amount\"]*df[df[\"Year\"] == int(df_transactions[\"order_date\"][5][:4])].values[0][1] if x[\"currency\"] == 'USD' else x[\"sales_amount\"], axis=1)"
   ]
  },
  {
   "cell_type": "code",
   "execution_count": 13,
   "id": "514b6ac7-15bc-4d6a-a7d8-8d728578e6f4",
   "metadata": {},
   "outputs": [],
   "source": [
    "# df_transactions[\"sales_amount\"] = df_transactions.apply(lambda x: x[\"sales_amount\"]*75 if x[\"currency\"] == 'USD' else x[\"sales_amount\"], axis=1)\n",
    "# başarılı fakat daha iyisini yaptık yukarıda!!"
   ]
  },
  {
   "cell_type": "code",
   "execution_count": 14,
   "id": "d1e6468b-0494-400e-b07d-46d0f9ec57c6",
   "metadata": {},
   "outputs": [
    {
     "data": {
      "text/html": [
       "<div>\n",
       "<style scoped>\n",
       "    .dataframe tbody tr th:only-of-type {\n",
       "        vertical-align: middle;\n",
       "    }\n",
       "\n",
       "    .dataframe tbody tr th {\n",
       "        vertical-align: top;\n",
       "    }\n",
       "\n",
       "    .dataframe thead th {\n",
       "        text-align: right;\n",
       "    }\n",
       "</style>\n",
       "<table border=\"1\" class=\"dataframe\">\n",
       "  <thead>\n",
       "    <tr style=\"text-align: right;\">\n",
       "      <th></th>\n",
       "      <th>product_code</th>\n",
       "      <th>customer_code</th>\n",
       "      <th>market_code</th>\n",
       "      <th>order_date</th>\n",
       "      <th>sales_qty</th>\n",
       "      <th>sales_amount</th>\n",
       "      <th>currency</th>\n",
       "    </tr>\n",
       "  </thead>\n",
       "  <tbody>\n",
       "    <tr>\n",
       "      <th>4</th>\n",
       "      <td>Prod003</td>\n",
       "      <td>Cus005</td>\n",
       "      <td>Mark004</td>\n",
       "      <td>2017-11-20</td>\n",
       "      <td>59</td>\n",
       "      <td>32548.30</td>\n",
       "      <td>USD</td>\n",
       "    </tr>\n",
       "    <tr>\n",
       "      <th>5</th>\n",
       "      <td>Prod003</td>\n",
       "      <td>Cus005</td>\n",
       "      <td>Mark004</td>\n",
       "      <td>2017-11-22</td>\n",
       "      <td>36</td>\n",
       "      <td>16274.15</td>\n",
       "      <td>USD</td>\n",
       "    </tr>\n",
       "  </tbody>\n",
       "</table>\n",
       "</div>"
      ],
      "text/plain": [
       "  product_code customer_code market_code  order_date  sales_qty  sales_amount  \\\n",
       "4      Prod003        Cus005     Mark004  2017-11-20         59      32548.30   \n",
       "5      Prod003        Cus005     Mark004  2017-11-22         36      16274.15   \n",
       "\n",
       "  currency  \n",
       "4      USD  \n",
       "5      USD  "
      ]
     },
     "execution_count": 14,
     "metadata": {},
     "output_type": "execute_result"
    }
   ],
   "source": [
    "df_transactions[df_transactions[\"currency\"] == \"USD\"]"
   ]
  },
  {
   "cell_type": "markdown",
   "id": "ee9f23b8-bfac-426e-bb9d-3cbfacc32144",
   "metadata": {},
   "source": [
    "### **Products Dataset**"
   ]
  },
  {
   "cell_type": "code",
   "execution_count": 7,
   "id": "16d32186-e5c0-4896-8d40-c5d57fcb83bd",
   "metadata": {
    "tags": []
   },
   "outputs": [
    {
     "data": {
      "text/html": [
       "<div>\n",
       "<style scoped>\n",
       "    .dataframe tbody tr th:only-of-type {\n",
       "        vertical-align: middle;\n",
       "    }\n",
       "\n",
       "    .dataframe tbody tr th {\n",
       "        vertical-align: top;\n",
       "    }\n",
       "\n",
       "    .dataframe thead th {\n",
       "        text-align: right;\n",
       "    }\n",
       "</style>\n",
       "<table border=\"1\" class=\"dataframe\">\n",
       "  <thead>\n",
       "    <tr style=\"text-align: right;\">\n",
       "      <th></th>\n",
       "      <th>product_code</th>\n",
       "      <th>product_type</th>\n",
       "    </tr>\n",
       "  </thead>\n",
       "  <tbody>\n",
       "    <tr>\n",
       "      <th>0</th>\n",
       "      <td>Prod001</td>\n",
       "      <td>Own Brand\\r</td>\n",
       "    </tr>\n",
       "    <tr>\n",
       "      <th>1</th>\n",
       "      <td>Prod002</td>\n",
       "      <td>Own Brand\\r</td>\n",
       "    </tr>\n",
       "    <tr>\n",
       "      <th>2</th>\n",
       "      <td>Prod003</td>\n",
       "      <td>Own Brand\\r</td>\n",
       "    </tr>\n",
       "    <tr>\n",
       "      <th>3</th>\n",
       "      <td>Prod004</td>\n",
       "      <td>Own Brand\\r</td>\n",
       "    </tr>\n",
       "    <tr>\n",
       "      <th>4</th>\n",
       "      <td>Prod005</td>\n",
       "      <td>Own Brand\\r</td>\n",
       "    </tr>\n",
       "  </tbody>\n",
       "</table>\n",
       "</div>"
      ],
      "text/plain": [
       "  product_code product_type\n",
       "0      Prod001  Own Brand\\r\n",
       "1      Prod002  Own Brand\\r\n",
       "2      Prod003  Own Brand\\r\n",
       "3      Prod004  Own Brand\\r\n",
       "4      Prod005  Own Brand\\r"
      ]
     },
     "execution_count": 7,
     "metadata": {},
     "output_type": "execute_result"
    }
   ],
   "source": [
    "df_products = pd.read_csv(\"sales_products.csv\")\n",
    "df_products.head()"
   ]
  },
  {
   "cell_type": "code",
   "execution_count": 8,
   "id": "e3164974-65ca-4b15-826f-9bf230fe7005",
   "metadata": {
    "tags": []
   },
   "outputs": [
    {
     "data": {
      "text/plain": [
       "Own Brand\\r       191\n",
       "Distribution\\r     88\n",
       "Name: product_type, dtype: int64"
      ]
     },
     "execution_count": 8,
     "metadata": {},
     "output_type": "execute_result"
    }
   ],
   "source": [
    "df_products[\"product_type\"].value_counts()"
   ]
  },
  {
   "cell_type": "code",
   "execution_count": 9,
   "id": "94e6e004-1207-433b-b210-654d1f4646f8",
   "metadata": {},
   "outputs": [],
   "source": [
    "df_products[\"product_type\"] = df_products[\"product_type\"].apply(lambda x: \"Own Brand\" if x == \"Own Brand\\r\" else \"Distribution\")"
   ]
  },
  {
   "cell_type": "code",
   "execution_count": 10,
   "id": "be68f0c1-c4db-4ca4-9ad2-49f5554e5861",
   "metadata": {},
   "outputs": [
    {
     "data": {
      "text/plain": [
       "Own Brand       191\n",
       "Distribution     88\n",
       "Name: product_type, dtype: int64"
      ]
     },
     "execution_count": 10,
     "metadata": {},
     "output_type": "execute_result"
    }
   ],
   "source": [
    "df_products[\"product_type\"].value_counts()"
   ]
  },
  {
   "cell_type": "code",
   "execution_count": 15,
   "id": "8aeac6c6-d4fe-45df-ba49-6f0cae58cbb5",
   "metadata": {},
   "outputs": [],
   "source": [
    "df_transactions.to_csv(\"deneme/sales_transactions.csv\", index=False)"
   ]
  },
  {
   "cell_type": "code",
   "execution_count": 16,
   "id": "b6ba1da0-4d6b-44cc-92a3-096d8c7f446e",
   "metadata": {},
   "outputs": [],
   "source": [
    "df_markets.to_csv(\"deneme/sales_markets.csv\", index=False)"
   ]
  },
  {
   "cell_type": "code",
   "execution_count": 11,
   "id": "f0344088-3dad-433a-a3aa-46b3920b8dde",
   "metadata": {},
   "outputs": [],
   "source": [
    "df_products.to_csv(\"deneme/sales_products.csv\", index=False)"
   ]
  },
  {
   "cell_type": "code",
   "execution_count": null,
   "id": "823102b1-fa68-42df-9152-6b7ae820bd50",
   "metadata": {},
   "outputs": [],
   "source": []
  }
 ],
 "metadata": {
  "kernelspec": {
   "display_name": "Python 3 (ipykernel)",
   "language": "python",
   "name": "python3"
  },
  "language_info": {
   "codemirror_mode": {
    "name": "ipython",
    "version": 3
   },
   "file_extension": ".py",
   "mimetype": "text/x-python",
   "name": "python",
   "nbconvert_exporter": "python",
   "pygments_lexer": "ipython3",
   "version": "3.9.7"
  }
 },
 "nbformat": 4,
 "nbformat_minor": 5
}
