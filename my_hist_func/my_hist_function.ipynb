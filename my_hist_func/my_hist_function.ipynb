{
 "cells": [
  {
   "cell_type": "code",
   "execution_count": 9,
   "id": "f4b287b9-0656-45ad-97e0-3d6c7ec05f87",
   "metadata": {},
   "outputs": [],
   "source": [
    "import pandas as pd\n",
    "import numpy as np\n",
    "import matplotlib.pyplot as plt"
   ]
  },
  {
   "cell_type": "code",
   "execution_count": 10,
   "id": "e4465162-2db5-4a26-9761-1ae1327c6082",
   "metadata": {},
   "outputs": [],
   "source": [
    "df = pd.read_csv(\"final_data2.csv\")"
   ]
  },
  {
   "cell_type": "code",
   "execution_count": 11,
   "id": "181bb740-c38e-4e77-8f5c-b8151bce66cd",
   "metadata": {},
   "outputs": [
    {
     "data": {
      "text/html": [
       "<div>\n",
       "<style scoped>\n",
       "    .dataframe tbody tr th:only-of-type {\n",
       "        vertical-align: middle;\n",
       "    }\n",
       "\n",
       "    .dataframe tbody tr th {\n",
       "        vertical-align: top;\n",
       "    }\n",
       "\n",
       "    .dataframe thead th {\n",
       "        text-align: right;\n",
       "    }\n",
       "</style>\n",
       "<table border=\"1\" class=\"dataframe\">\n",
       "  <thead>\n",
       "    <tr style=\"text-align: right;\">\n",
       "      <th></th>\n",
       "      <th>First Name</th>\n",
       "      <th>Last Name</th>\n",
       "      <th>T-Puan</th>\n",
       "      <th>Grade</th>\n",
       "    </tr>\n",
       "  </thead>\n",
       "  <tbody>\n",
       "    <tr>\n",
       "      <th>0</th>\n",
       "      <td>Woody</td>\n",
       "      <td>Barrera</td>\n",
       "      <td>45.119750</td>\n",
       "      <td>CB</td>\n",
       "    </tr>\n",
       "    <tr>\n",
       "      <th>1</th>\n",
       "      <td>Malaika</td>\n",
       "      <td>Lambert</td>\n",
       "      <td>50.958273</td>\n",
       "      <td>BB</td>\n",
       "    </tr>\n",
       "    <tr>\n",
       "      <th>2</th>\n",
       "      <td>Traci</td>\n",
       "      <td>Joyce</td>\n",
       "      <td>51.350413</td>\n",
       "      <td>BB</td>\n",
       "    </tr>\n",
       "    <tr>\n",
       "      <th>3</th>\n",
       "      <td>Gregg</td>\n",
       "      <td>Flower</td>\n",
       "      <td>40.414075</td>\n",
       "      <td>CC</td>\n",
       "    </tr>\n",
       "    <tr>\n",
       "      <th>4</th>\n",
       "      <td>Stacy</td>\n",
       "      <td>Johnson</td>\n",
       "      <td>59.977483</td>\n",
       "      <td>AA</td>\n",
       "    </tr>\n",
       "  </tbody>\n",
       "</table>\n",
       "</div>"
      ],
      "text/plain": [
       "  First Name Last Name     T-Puan Grade\n",
       "0      Woody   Barrera  45.119750    CB\n",
       "1    Malaika   Lambert  50.958273    BB\n",
       "2      Traci     Joyce  51.350413    BB\n",
       "3      Gregg    Flower  40.414075    CC\n",
       "4      Stacy   Johnson  59.977483    AA"
      ]
     },
     "execution_count": 11,
     "metadata": {},
     "output_type": "execute_result"
    }
   ],
   "source": [
    "df.head()"
   ]
  },
  {
   "cell_type": "code",
   "execution_count": 59,
   "id": "7bcce5df-d59e-4ac4-a48b-cad621bf369f",
   "metadata": {},
   "outputs": [],
   "source": [
    "def make_hist_list(df):\n",
    "    hist_list = []\n",
    "    toplam = 0\n",
    "    for i in range(50):\n",
    "        if i != 0:\n",
    "            hist_list.append(len(df[df['T-Puan'] <= (i+1)*2][\"T-Puan\"]) - toplam)\n",
    "            toplam = len(df[df['T-Puan'] <= (i+1)*2][\"T-Puan\"])\n",
    "        else:\n",
    "            hist_list.append(len(df[df['T-Puan'] <= (i+1)*2][\"T-Puan\"]))\n",
    "            toplam = toplam + len(df[df['T-Puan'] <= (i+1)*2][\"T-Puan\"])\n",
    "    return hist_list\n",
    "            \n",
    "def plot_hist(df):\n",
    "    hist_list = make_hist_list(df)\n",
    "    fig = plt.figure(figsize=(10, 6))        \n",
    "    plt.bar(x = np.arange(0,100,2), height = hist_list, edgecolor=\"blue\")\n",
    "    plt.yticks(hist_list)\n",
    "    plt.xticks(np.arange(0,105,5,));"
   ]
  },
  {
   "cell_type": "code",
   "execution_count": 60,
   "id": "911cc354-3fb3-4152-9c56-b2c0512d2a6b",
   "metadata": {},
   "outputs": [
    {
     "data": {
      "image/png": "[encoded data removed]",
      "text/plain": [
       "<Figure size 1000x600 with 1 Axes>"
      ]
     },
     "metadata": {},
     "output_type": "display_data"
    }
   ],
   "source": [
    "plot_hist(df)"
   ]
  }
 ],
 "metadata": {
  "kernelspec": {
   "display_name": "Python 3 (ipykernel)",
   "language": "python",
   "name": "python3"
  },
  "language_info": {
   "codemirror_mode": {
    "name": "ipython",
    "version": 3
   },
   "file_extension": ".py",
   "mimetype": "text/x-python",
   "name": "python",
   "nbconvert_exporter": "python",
   "pygments_lexer": "ipython3",
   "version": "3.9.7"
  }
 },
 "nbformat": 4,
 "nbformat_minor": 5
}
