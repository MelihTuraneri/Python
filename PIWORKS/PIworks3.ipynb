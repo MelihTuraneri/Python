{
 "cells": [
  {
   "cell_type": "code",
   "execution_count": 30,
   "id": "0f39704a-db05-486e-8ea2-58cd8fe7a3c6",
   "metadata": {},
   "outputs": [],
   "source": [
    "import pandas as pd \n",
    "import numpy as np"
   ]
  },
  {
   "cell_type": "code",
   "execution_count": 31,
   "id": "a0364c6c-0b3a-4594-bd99-d0383e6b65ac",
   "metadata": {},
   "outputs": [
    {
     "data": {
      "text/html": [
       "<div>\n",
       "<style scoped>\n",
       "    .dataframe tbody tr th:only-of-type {\n",
       "        vertical-align: middle;\n",
       "    }\n",
       "\n",
       "    .dataframe tbody tr th {\n",
       "        vertical-align: top;\n",
       "    }\n",
       "\n",
       "    .dataframe thead th {\n",
       "        text-align: right;\n",
       "    }\n",
       "</style>\n",
       "<table border=\"1\" class=\"dataframe\">\n",
       "  <thead>\n",
       "    <tr style=\"text-align: right;\">\n",
       "      <th></th>\n",
       "      <th>Device_Type</th>\n",
       "      <th>Stats_Access_Link</th>\n",
       "    </tr>\n",
       "  </thead>\n",
       "  <tbody>\n",
       "    <tr>\n",
       "      <th>0</th>\n",
       "      <td>AXO145</td>\n",
       "      <td>&lt;url&gt;https://xcd32112.smart_meter.com&lt;/url&gt;</td>\n",
       "    </tr>\n",
       "    <tr>\n",
       "      <th>1</th>\n",
       "      <td>TRU151</td>\n",
       "      <td>&lt;url&gt;https://tXh6431.dia_meter.com&lt;/url&gt;</td>\n",
       "    </tr>\n",
       "    <tr>\n",
       "      <th>2</th>\n",
       "      <td>ZOD231</td>\n",
       "      <td>&lt;url&gt;https://yT5485.smart_meter.com&lt;/url&gt;</td>\n",
       "    </tr>\n",
       "  </tbody>\n",
       "</table>\n",
       "</div>"
      ],
      "text/plain": [
       "  Device_Type                            Stats_Access_Link\n",
       "0      AXO145  <url>https://xcd32112.smart_meter.com</url>\n",
       "1      TRU151     <url>https://tXh6431.dia_meter.com</url>\n",
       "2      ZOD231    <url>https://yT5485.smart_meter.com</url>"
      ]
     },
     "execution_count": 31,
     "metadata": {},
     "output_type": "execute_result"
    }
   ],
   "source": [
    "Device_Type = ['AXO145', 'TRU151', 'ZOD231']\n",
    "Stats_Access_Link = ['<url>https://xcd32112.smart_meter.com</url>',\n",
    "                    '<url>https://tXh6431.dia_meter.com</url>',\n",
    "                    '<url>https://yT5485.smart_meter.com</url>']\n",
    "\n",
    "dict1 = {'Device_Type': Device_Type,\n",
    "        'Stats_Access_Link': Stats_Access_Link}\n",
    "df = pd.DataFrame(dict1)\n",
    "df"
   ]
  },
  {
   "cell_type": "code",
   "execution_count": 32,
   "id": "dacafb91-1c92-493b-bf5c-f27906a32efc",
   "metadata": {},
   "outputs": [],
   "source": [
    "for i in range(len(df)):\n",
    "    df['Stats_Access_Link'][i] = df['Stats_Access_Link'][i].replace('<url>https://', \"\")\n",
    "    df['Stats_Access_Link'][i] = df['Stats_Access_Link'][i].replace('</url>', \"\")\n",
    "    df['Stats_Access_Link'][i] = df['Stats_Access_Link'][i].replace(df['Stats_Access_Link'][i][:df['Stats_Access_Link'][i].find('.')],\n",
    "                                                               df['Stats_Access_Link'][i][:df['Stats_Access_Link'][i].find('.')].lower())"
   ]
  },
  {
   "cell_type": "code",
   "execution_count": null,
   "id": "fd128449-f482-4556-bfa3-0f73057b8d5c",
   "metadata": {},
   "outputs": [],
   "source": []
  }
 ],
 "metadata": {
  "kernelspec": {
   "display_name": "Python 3 (ipykernel)",
   "language": "python",
   "name": "python3"
  },
  "language_info": {
   "codemirror_mode": {
    "name": "ipython",
    "version": 3
   },
   "file_extension": ".py",
   "mimetype": "text/x-python",
   "name": "python",
   "nbconvert_exporter": "python",
   "pygments_lexer": "ipython3",
   "version": "3.9.7"
  }
 },
 "nbformat": 4,
 "nbformat_minor": 5
}
